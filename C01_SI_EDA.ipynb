{
 "cells": [
  {
   "cell_type": "markdown",
   "id": "16135418",
   "metadata": {},
   "source": [
    "#### Data Source Information\n",
    "https://www.sciencedirect.com/science/article/pii/S2352340922008605\n",
    "\n",
    "https://www.openicpsr.org/openicpsr/project/178881/version/V1/view"
   ]
  },
  {
   "cell_type": "markdown",
   "id": "b040c3a1",
   "metadata": {},
   "source": [
    "---\n",
    "#### Libraries "
   ]
  },
  {
   "cell_type": "code",
   "execution_count": null,
   "id": "bdbbf8a0",
   "metadata": {},
   "outputs": [],
   "source": [
    "import numpy as np\n",
    "import pandas as pd"
   ]
  },
  {
   "cell_type": "markdown",
   "id": "89ae2c56",
   "metadata": {},
   "source": [
    "---\n",
    "#### Input"
   ]
  },
  {
   "cell_type": "code",
   "execution_count": 2,
   "id": "b99e672b",
   "metadata": {},
   "outputs": [],
   "source": [
    "si_df=pd.read_csv(\"D:\\SP\\GitHub\\P1\\spanis_ insurance.csv\")"
   ]
  },
  {
   "cell_type": "code",
   "execution_count": 3,
   "id": "567d9847",
   "metadata": {},
   "outputs": [
    {
     "data": {
      "text/plain": [
       "(76102, 15)"
      ]
     },
     "execution_count": 3,
     "metadata": {},
     "output_type": "execute_result"
    }
   ],
   "source": [
    "si_df.shape"
   ]
  },
  {
   "cell_type": "code",
   "execution_count": 4,
   "id": "8f159bdb",
   "metadata": {},
   "outputs": [
    {
     "data": {
      "text/html": [
       "<div>\n",
       "<style scoped>\n",
       "    .dataframe tbody tr th:only-of-type {\n",
       "        vertical-align: middle;\n",
       "    }\n",
       "\n",
       "    .dataframe tbody tr th {\n",
       "        vertical-align: top;\n",
       "    }\n",
       "\n",
       "    .dataframe thead th {\n",
       "        text-align: right;\n",
       "    }\n",
       "</style>\n",
       "<table border=\"1\" class=\"dataframe\">\n",
       "  <thead>\n",
       "    <tr style=\"text-align: right;\">\n",
       "      <th></th>\n",
       "      <th>ID</th>\n",
       "      <th>Gender</th>\n",
       "      <th>Birth_Date</th>\n",
       "      <th>Effecitive_Date</th>\n",
       "      <th>Capital</th>\n",
       "      <th>Renewal_Date</th>\n",
       "      <th>Age</th>\n",
       "      <th>t</th>\n",
       "      <th>Age_Actuarial</th>\n",
       "      <th>Birthday</th>\n",
       "      <th>x</th>\n",
       "      <th>r</th>\n",
       "      <th>s</th>\n",
       "      <th>Age_actuarial_quarter</th>\n",
       "      <th>Month</th>\n",
       "    </tr>\n",
       "  </thead>\n",
       "  <tbody>\n",
       "    <tr>\n",
       "      <th>0</th>\n",
       "      <td>1</td>\n",
       "      <td>M</td>\n",
       "      <td>10-07-1960</td>\n",
       "      <td>08-03-2000</td>\n",
       "      <td>55000.0</td>\n",
       "      <td>08-03-2009</td>\n",
       "      <td>48.659822</td>\n",
       "      <td>0.659822</td>\n",
       "      <td>49</td>\n",
       "      <td>10-07-2009</td>\n",
       "      <td>0.180822</td>\n",
       "      <td>4</td>\n",
       "      <td>1</td>\n",
       "      <td>48.75</td>\n",
       "      <td>3</td>\n",
       "    </tr>\n",
       "    <tr>\n",
       "      <th>1</th>\n",
       "      <td>2</td>\n",
       "      <td>M</td>\n",
       "      <td>18-08-1961</td>\n",
       "      <td>07-03-2000</td>\n",
       "      <td>105000.0</td>\n",
       "      <td>07-03-2009</td>\n",
       "      <td>47.550992</td>\n",
       "      <td>0.550992</td>\n",
       "      <td>48</td>\n",
       "      <td>18-08-2009</td>\n",
       "      <td>0.178082</td>\n",
       "      <td>3</td>\n",
       "      <td>1</td>\n",
       "      <td>47.50</td>\n",
       "      <td>3</td>\n",
       "    </tr>\n",
       "    <tr>\n",
       "      <th>2</th>\n",
       "      <td>3</td>\n",
       "      <td>M</td>\n",
       "      <td>14-10-1963</td>\n",
       "      <td>15-03-2000</td>\n",
       "      <td>79500.0</td>\n",
       "      <td>15-03-2009</td>\n",
       "      <td>45.418207</td>\n",
       "      <td>0.418207</td>\n",
       "      <td>45</td>\n",
       "      <td>14-10-2009</td>\n",
       "      <td>0.200000</td>\n",
       "      <td>3</td>\n",
       "      <td>1</td>\n",
       "      <td>45.50</td>\n",
       "      <td>3</td>\n",
       "    </tr>\n",
       "    <tr>\n",
       "      <th>3</th>\n",
       "      <td>4</td>\n",
       "      <td>F</td>\n",
       "      <td>26-06-1966</td>\n",
       "      <td>15-03-2000</td>\n",
       "      <td>74500.0</td>\n",
       "      <td>15-03-2009</td>\n",
       "      <td>42.718686</td>\n",
       "      <td>0.718686</td>\n",
       "      <td>43</td>\n",
       "      <td>26-06-2009</td>\n",
       "      <td>0.200000</td>\n",
       "      <td>4</td>\n",
       "      <td>1</td>\n",
       "      <td>42.75</td>\n",
       "      <td>3</td>\n",
       "    </tr>\n",
       "    <tr>\n",
       "      <th>4</th>\n",
       "      <td>5</td>\n",
       "      <td>M</td>\n",
       "      <td>30-09-1942</td>\n",
       "      <td>07-03-2000</td>\n",
       "      <td>140000.0</td>\n",
       "      <td>07-03-2009</td>\n",
       "      <td>66.433949</td>\n",
       "      <td>0.433949</td>\n",
       "      <td>66</td>\n",
       "      <td>30-09-2009</td>\n",
       "      <td>0.178082</td>\n",
       "      <td>3</td>\n",
       "      <td>1</td>\n",
       "      <td>66.50</td>\n",
       "      <td>3</td>\n",
       "    </tr>\n",
       "  </tbody>\n",
       "</table>\n",
       "</div>"
      ],
      "text/plain": [
       "   ID Gender  Birth_Date Effecitive_Date   Capital Renewal_Date        Age  \\\n",
       "0   1      M  10-07-1960      08-03-2000   55000.0   08-03-2009  48.659822   \n",
       "1   2      M  18-08-1961      07-03-2000  105000.0   07-03-2009  47.550992   \n",
       "2   3      M  14-10-1963      15-03-2000   79500.0   15-03-2009  45.418207   \n",
       "3   4      F  26-06-1966      15-03-2000   74500.0   15-03-2009  42.718686   \n",
       "4   5      M  30-09-1942      07-03-2000  140000.0   07-03-2009  66.433949   \n",
       "\n",
       "          t  Age_Actuarial    Birthday         x  r  s  Age_actuarial_quarter  \\\n",
       "0  0.659822             49  10-07-2009  0.180822  4  1                  48.75   \n",
       "1  0.550992             48  18-08-2009  0.178082  3  1                  47.50   \n",
       "2  0.418207             45  14-10-2009  0.200000  3  1                  45.50   \n",
       "3  0.718686             43  26-06-2009  0.200000  4  1                  42.75   \n",
       "4  0.433949             66  30-09-2009  0.178082  3  1                  66.50   \n",
       "\n",
       "   Month  \n",
       "0      3  \n",
       "1      3  \n",
       "2      3  \n",
       "3      3  \n",
       "4      3  "
      ]
     },
     "execution_count": 4,
     "metadata": {},
     "output_type": "execute_result"
    }
   ],
   "source": [
    "si_df.head()"
   ]
  },
  {
   "cell_type": "markdown",
   "id": "636cb7a1",
   "metadata": {},
   "source": [
    "---\n",
    "#### dataypes "
   ]
  },
  {
   "cell_type": "code",
   "execution_count": 5,
   "id": "3f823385",
   "metadata": {},
   "outputs": [
    {
     "data": {
      "text/plain": [
       "ID                         int64\n",
       "Gender                    object\n",
       "Birth_Date                object\n",
       "Effecitive_Date           object\n",
       "Capital                  float64\n",
       "Renewal_Date              object\n",
       "Age                      float64\n",
       "t                        float64\n",
       "Age_Actuarial              int64\n",
       "Birthday                  object\n",
       "x                        float64\n",
       "r                          int64\n",
       "s                          int64\n",
       "Age_actuarial_quarter    float64\n",
       "Month                      int64\n",
       "dtype: object"
      ]
     },
     "execution_count": 5,
     "metadata": {},
     "output_type": "execute_result"
    }
   ],
   "source": [
    "si_df.dtypes"
   ]
  },
  {
   "cell_type": "markdown",
   "id": "26ef1445",
   "metadata": {},
   "source": [
    "---\n",
    "#### Checking Missing Observation Data"
   ]
  },
  {
   "cell_type": "code",
   "execution_count": 6,
   "id": "013478d6",
   "metadata": {},
   "outputs": [
    {
     "data": {
      "text/plain": [
       "ID                       0\n",
       "Gender                   0\n",
       "Birth_Date               0\n",
       "Effecitive_Date          0\n",
       "Capital                  0\n",
       "Renewal_Date             0\n",
       "Age                      0\n",
       "t                        0\n",
       "Age_Actuarial            0\n",
       "Birthday                 0\n",
       "x                        0\n",
       "r                        0\n",
       "s                        0\n",
       "Age_actuarial_quarter    0\n",
       "Month                    0\n",
       "dtype: int64"
      ]
     },
     "execution_count": 6,
     "metadata": {},
     "output_type": "execute_result"
    }
   ],
   "source": [
    "si_df.isna().sum()"
   ]
  },
  {
   "cell_type": "markdown",
   "id": "fb09cf5b",
   "metadata": {},
   "source": [
    "#### NO missing Found\n",
    "---"
   ]
  },
  {
   "cell_type": "markdown",
   "id": "1b7af687",
   "metadata": {},
   "source": [
    "#### convert dates from object to date format"
   ]
  },
  {
   "cell_type": "code",
   "execution_count": 7,
   "id": "15918e50",
   "metadata": {},
   "outputs": [],
   "source": [
    "si_df['Birth_Date']=pd.to_datetime(si_df['Birth_Date'],format=\"%d-%m-%Y\")\n",
    "si_df['Effecitive_Date']=pd.to_datetime(si_df['Effecitive_Date'],format=\"%d-%m-%Y\")\n",
    "si_df['Renewal_Date']=pd.to_datetime(si_df['Renewal_Date'],format=\"%d-%m-%Y\")\n",
    "si_df['Birthday']=pd.to_datetime(si_df['Birthday'],format=\"%d-%m-%Y\")"
   ]
  },
  {
   "cell_type": "code",
   "execution_count": 8,
   "id": "3f29ebdf",
   "metadata": {},
   "outputs": [],
   "source": [
    "si_df['birth_yr']=si_df['Birth_Date'].apply(lambda x:x.year)"
   ]
  },
  {
   "cell_type": "markdown",
   "id": "91797bb7",
   "metadata": {},
   "source": [
    "---\n",
    "#### creating Ageing Quarter "
   ]
  },
  {
   "cell_type": "code",
   "execution_count": 9,
   "id": "421d25eb",
   "metadata": {},
   "outputs": [],
   "source": [
    "conditions = [si_df['r']==1,si_df['r']==2,si_df['r']==3,si_df['r']==4 ]\n",
    "choices = ['1Q', '2Q','3Q','4Q']\n",
    "si_df['ageing_quarter']  = np.select(conditions, choices, default=0)\n",
    "si_df.drop(columns='r',inplace=True)"
   ]
  },
  {
   "cell_type": "markdown",
   "id": "7ac8fe08",
   "metadata": {},
   "source": [
    "---\n",
    "#### creating Seasonal quarter"
   ]
  },
  {
   "cell_type": "code",
   "execution_count": 10,
   "id": "0f609151",
   "metadata": {},
   "outputs": [],
   "source": [
    "conditions = [si_df['s']==1,si_df['s']==2,si_df['s']==3,si_df['s']==4 ]\n",
    "choices = ['Winter', 'Spring','Summer','Autumn']\n",
    "si_df['seasonal_quarter']  = np.select(conditions, choices, default=0)\n",
    "si_df.drop(columns='s',inplace=True)"
   ]
  },
  {
   "cell_type": "markdown",
   "id": "3cead618",
   "metadata": {},
   "source": [
    "---"
   ]
  },
  {
   "cell_type": "markdown",
   "id": "1707af83",
   "metadata": {},
   "source": [
    "####  Summary of Numerical Data"
   ]
  },
  {
   "cell_type": "code",
   "execution_count": 11,
   "id": "7c844322",
   "metadata": {},
   "outputs": [
    {
     "data": {
      "text/html": [
       "<div>\n",
       "<style scoped>\n",
       "    .dataframe tbody tr th:only-of-type {\n",
       "        vertical-align: middle;\n",
       "    }\n",
       "\n",
       "    .dataframe tbody tr th {\n",
       "        vertical-align: top;\n",
       "    }\n",
       "\n",
       "    .dataframe thead th {\n",
       "        text-align: right;\n",
       "    }\n",
       "</style>\n",
       "<table border=\"1\" class=\"dataframe\">\n",
       "  <thead>\n",
       "    <tr style=\"text-align: right;\">\n",
       "      <th></th>\n",
       "      <th>ID</th>\n",
       "      <th>Capital</th>\n",
       "      <th>Age</th>\n",
       "      <th>t</th>\n",
       "      <th>Age_Actuarial</th>\n",
       "      <th>x</th>\n",
       "      <th>Age_actuarial_quarter</th>\n",
       "      <th>Month</th>\n",
       "      <th>birth_yr</th>\n",
       "    </tr>\n",
       "  </thead>\n",
       "  <tbody>\n",
       "    <tr>\n",
       "      <th>count</th>\n",
       "      <td>76102.000000</td>\n",
       "      <td>76102.000000</td>\n",
       "      <td>76102.000000</td>\n",
       "      <td>76102.000000</td>\n",
       "      <td>76102.000000</td>\n",
       "      <td>76102.000000</td>\n",
       "      <td>76102.000000</td>\n",
       "      <td>76102.000000</td>\n",
       "      <td>76102.000000</td>\n",
       "    </tr>\n",
       "    <tr>\n",
       "      <th>mean</th>\n",
       "      <td>38051.500000</td>\n",
       "      <td>91452.176228</td>\n",
       "      <td>44.481505</td>\n",
       "      <td>0.497970</td>\n",
       "      <td>44.478200</td>\n",
       "      <td>0.508774</td>\n",
       "      <td>44.357967</td>\n",
       "      <td>6.654293</td>\n",
       "      <td>1964.525847</td>\n",
       "    </tr>\n",
       "    <tr>\n",
       "      <th>std</th>\n",
       "      <td>21968.899430</td>\n",
       "      <td>64302.203747</td>\n",
       "      <td>10.836022</td>\n",
       "      <td>0.288532</td>\n",
       "      <td>10.840511</td>\n",
       "      <td>0.304494</td>\n",
       "      <td>10.840013</td>\n",
       "      <td>3.608187</td>\n",
       "      <td>10.826203</td>\n",
       "    </tr>\n",
       "    <tr>\n",
       "      <th>min</th>\n",
       "      <td>1.000000</td>\n",
       "      <td>7000.000000</td>\n",
       "      <td>17.891855</td>\n",
       "      <td>0.000000</td>\n",
       "      <td>18.000000</td>\n",
       "      <td>0.000000</td>\n",
       "      <td>17.000000</td>\n",
       "      <td>1.000000</td>\n",
       "      <td>1930.000000</td>\n",
       "    </tr>\n",
       "    <tr>\n",
       "      <th>25%</th>\n",
       "      <td>19026.250000</td>\n",
       "      <td>54000.000000</td>\n",
       "      <td>38.590007</td>\n",
       "      <td>0.247775</td>\n",
       "      <td>39.000000</td>\n",
       "      <td>0.241096</td>\n",
       "      <td>38.500000</td>\n",
       "      <td>3.000000</td>\n",
       "      <td>1957.000000</td>\n",
       "    </tr>\n",
       "    <tr>\n",
       "      <th>50%</th>\n",
       "      <td>38051.500000</td>\n",
       "      <td>80000.000000</td>\n",
       "      <td>45.144422</td>\n",
       "      <td>0.494182</td>\n",
       "      <td>45.000000</td>\n",
       "      <td>0.493151</td>\n",
       "      <td>45.000000</td>\n",
       "      <td>6.000000</td>\n",
       "      <td>1964.000000</td>\n",
       "    </tr>\n",
       "    <tr>\n",
       "      <th>75%</th>\n",
       "      <td>57076.750000</td>\n",
       "      <td>110000.000000</td>\n",
       "      <td>51.958932</td>\n",
       "      <td>0.749487</td>\n",
       "      <td>52.000000</td>\n",
       "      <td>0.797260</td>\n",
       "      <td>51.750000</td>\n",
       "      <td>10.000000</td>\n",
       "      <td>1970.000000</td>\n",
       "    </tr>\n",
       "    <tr>\n",
       "      <th>max</th>\n",
       "      <td>76102.000000</td>\n",
       "      <td>3010000.000000</td>\n",
       "      <td>78.844627</td>\n",
       "      <td>0.999316</td>\n",
       "      <td>79.000000</td>\n",
       "      <td>0.997260</td>\n",
       "      <td>78.750000</td>\n",
       "      <td>12.000000</td>\n",
       "      <td>1991.000000</td>\n",
       "    </tr>\n",
       "  </tbody>\n",
       "</table>\n",
       "</div>"
      ],
      "text/plain": [
       "                ID        Capital          Age            t  Age_Actuarial  \\\n",
       "count 76102.000000   76102.000000 76102.000000 76102.000000   76102.000000   \n",
       "mean  38051.500000   91452.176228    44.481505     0.497970      44.478200   \n",
       "std   21968.899430   64302.203747    10.836022     0.288532      10.840511   \n",
       "min       1.000000    7000.000000    17.891855     0.000000      18.000000   \n",
       "25%   19026.250000   54000.000000    38.590007     0.247775      39.000000   \n",
       "50%   38051.500000   80000.000000    45.144422     0.494182      45.000000   \n",
       "75%   57076.750000  110000.000000    51.958932     0.749487      52.000000   \n",
       "max   76102.000000 3010000.000000    78.844627     0.999316      79.000000   \n",
       "\n",
       "                 x  Age_actuarial_quarter        Month     birth_yr  \n",
       "count 76102.000000           76102.000000 76102.000000 76102.000000  \n",
       "mean      0.508774              44.357967     6.654293  1964.525847  \n",
       "std       0.304494              10.840013     3.608187    10.826203  \n",
       "min       0.000000              17.000000     1.000000  1930.000000  \n",
       "25%       0.241096              38.500000     3.000000  1957.000000  \n",
       "50%       0.493151              45.000000     6.000000  1964.000000  \n",
       "75%       0.797260              51.750000    10.000000  1970.000000  \n",
       "max       0.997260              78.750000    12.000000  1991.000000  "
      ]
     },
     "execution_count": 11,
     "metadata": {},
     "output_type": "execute_result"
    }
   ],
   "source": [
    "# Set the float format to suppress scientific notation\n",
    "pd.set_option('display.float_format', lambda x: f'{x:.6f}')\n",
    "si_df.describe()"
   ]
  },
  {
   "cell_type": "markdown",
   "id": "6afb5ea5",
   "metadata": {},
   "source": [
    "--- "
   ]
  },
  {
   "cell_type": "markdown",
   "id": "f2f7e1cb",
   "metadata": {},
   "source": [
    "### EDA"
   ]
  },
  {
   "cell_type": "markdown",
   "id": "70fd06b8",
   "metadata": {},
   "source": [
    "+  Gender Wise Distribution"
   ]
  },
  {
   "cell_type": "code",
   "execution_count": 12,
   "id": "cfc10399",
   "metadata": {},
   "outputs": [
    {
     "data": {
      "text/plain": [
       "M    47652\n",
       "F    28450\n",
       "Name: Gender, dtype: int64"
      ]
     },
     "execution_count": 12,
     "metadata": {},
     "output_type": "execute_result"
    }
   ],
   "source": [
    "si_df['Gender'].value_counts()"
   ]
  },
  {
   "cell_type": "code",
   "execution_count": 13,
   "id": "fbcc1f47",
   "metadata": {},
   "outputs": [
    {
     "data": {
      "image/png": "[encoded data removed]",
      "text/plain": [
       "<Figure size 720x432 with 1 Axes>"
      ]
     },
     "metadata": {
      "needs_background": "light"
     },
     "output_type": "display_data"
    }
   ],
   "source": [
    "import seaborn as sns\n",
    "import matplotlib.pyplot as plt\n",
    "\n",
    "# Create side-by-side histograms using seaborn\n",
    "plt.figure(figsize=(10, 6))\n",
    "# Define colors for each gender\n",
    "colors = {'M': '#ED1C24', 'F': '#003874'}\n",
    "\n",
    "sns.histplot(data=si_df, x='Age', hue='Gender', multiple='stack', bins=30, kde=True,palette=colors)\n",
    "\n",
    "# Set plot labels and title\n",
    "plt.xlabel('Age')\n",
    "plt.ylabel('Number of Policies')\n",
    "plt.title('Distribution of Age by Gender')\n",
    "\n",
    "# Show the plot\n",
    "plt.show()"
   ]
  },
  {
   "cell_type": "code",
   "execution_count": 15,
   "id": "f5ca9fd2",
   "metadata": {},
   "outputs": [
    {
     "data": {
      "text/html": [
       "<div>\n",
       "<style scoped>\n",
       "    .dataframe tbody tr th:only-of-type {\n",
       "        vertical-align: middle;\n",
       "    }\n",
       "\n",
       "    .dataframe tbody tr th {\n",
       "        vertical-align: top;\n",
       "    }\n",
       "\n",
       "    .dataframe thead th {\n",
       "        text-align: right;\n",
       "    }\n",
       "</style>\n",
       "<table border=\"1\" class=\"dataframe\">\n",
       "  <thead>\n",
       "    <tr style=\"text-align: right;\">\n",
       "      <th></th>\n",
       "      <th>Gender</th>\n",
       "      <th>F</th>\n",
       "      <th>M</th>\n",
       "    </tr>\n",
       "  </thead>\n",
       "  <tbody>\n",
       "    <tr>\n",
       "      <th rowspan=\"8\" valign=\"top\">Age</th>\n",
       "      <th>count</th>\n",
       "      <td>28450.000000</td>\n",
       "      <td>47652.000000</td>\n",
       "    </tr>\n",
       "    <tr>\n",
       "      <th>mean</th>\n",
       "      <td>43.369473</td>\n",
       "      <td>45.145430</td>\n",
       "    </tr>\n",
       "    <tr>\n",
       "      <th>std</th>\n",
       "      <td>10.710016</td>\n",
       "      <td>10.856501</td>\n",
       "    </tr>\n",
       "    <tr>\n",
       "      <th>min</th>\n",
       "      <td>18.017796</td>\n",
       "      <td>17.891855</td>\n",
       "    </tr>\n",
       "    <tr>\n",
       "      <th>25%</th>\n",
       "      <td>37.544148</td>\n",
       "      <td>39.276523</td>\n",
       "    </tr>\n",
       "    <tr>\n",
       "      <th>50%</th>\n",
       "      <td>44.083504</td>\n",
       "      <td>45.864476</td>\n",
       "    </tr>\n",
       "    <tr>\n",
       "      <th>75%</th>\n",
       "      <td>50.583847</td>\n",
       "      <td>52.739220</td>\n",
       "    </tr>\n",
       "    <tr>\n",
       "      <th>max</th>\n",
       "      <td>76.268309</td>\n",
       "      <td>78.844627</td>\n",
       "    </tr>\n",
       "    <tr>\n",
       "      <th rowspan=\"8\" valign=\"top\">Capital</th>\n",
       "      <th>count</th>\n",
       "      <td>28450.000000</td>\n",
       "      <td>47652.000000</td>\n",
       "    </tr>\n",
       "    <tr>\n",
       "      <th>mean</th>\n",
       "      <td>87599.968822</td>\n",
       "      <td>93752.086006</td>\n",
       "    </tr>\n",
       "    <tr>\n",
       "      <th>std</th>\n",
       "      <td>55820.394204</td>\n",
       "      <td>68767.704080</td>\n",
       "    </tr>\n",
       "    <tr>\n",
       "      <th>min</th>\n",
       "      <td>7000.000000</td>\n",
       "      <td>7000.000000</td>\n",
       "    </tr>\n",
       "    <tr>\n",
       "      <th>25%</th>\n",
       "      <td>52000.000000</td>\n",
       "      <td>55000.000000</td>\n",
       "    </tr>\n",
       "    <tr>\n",
       "      <th>50%</th>\n",
       "      <td>78000.000000</td>\n",
       "      <td>80000.000000</td>\n",
       "    </tr>\n",
       "    <tr>\n",
       "      <th>75%</th>\n",
       "      <td>110000.000000</td>\n",
       "      <td>115000.000000</td>\n",
       "    </tr>\n",
       "    <tr>\n",
       "      <th>max</th>\n",
       "      <td>1251000.000000</td>\n",
       "      <td>3010000.000000</td>\n",
       "    </tr>\n",
       "    <tr>\n",
       "      <th rowspan=\"8\" valign=\"top\">birth_yr</th>\n",
       "      <th>count</th>\n",
       "      <td>28450.000000</td>\n",
       "      <td>47652.000000</td>\n",
       "    </tr>\n",
       "    <tr>\n",
       "      <th>mean</th>\n",
       "      <td>1965.641371</td>\n",
       "      <td>1963.859838</td>\n",
       "    </tr>\n",
       "    <tr>\n",
       "      <th>std</th>\n",
       "      <td>10.698830</td>\n",
       "      <td>10.847094</td>\n",
       "    </tr>\n",
       "    <tr>\n",
       "      <th>min</th>\n",
       "      <td>1933.000000</td>\n",
       "      <td>1930.000000</td>\n",
       "    </tr>\n",
       "    <tr>\n",
       "      <th>25%</th>\n",
       "      <td>1958.000000</td>\n",
       "      <td>1956.000000</td>\n",
       "    </tr>\n",
       "    <tr>\n",
       "      <th>50%</th>\n",
       "      <td>1965.000000</td>\n",
       "      <td>1963.000000</td>\n",
       "    </tr>\n",
       "    <tr>\n",
       "      <th>75%</th>\n",
       "      <td>1971.000000</td>\n",
       "      <td>1970.000000</td>\n",
       "    </tr>\n",
       "    <tr>\n",
       "      <th>max</th>\n",
       "      <td>1991.000000</td>\n",
       "      <td>1991.000000</td>\n",
       "    </tr>\n",
       "  </tbody>\n",
       "</table>\n",
       "</div>"
      ],
      "text/plain": [
       "Gender                      F              M\n",
       "Age      count   28450.000000   47652.000000\n",
       "         mean       43.369473      45.145430\n",
       "         std        10.710016      10.856501\n",
       "         min        18.017796      17.891855\n",
       "         25%        37.544148      39.276523\n",
       "         50%        44.083504      45.864476\n",
       "         75%        50.583847      52.739220\n",
       "         max        76.268309      78.844627\n",
       "Capital  count   28450.000000   47652.000000\n",
       "         mean    87599.968822   93752.086006\n",
       "         std     55820.394204   68767.704080\n",
       "         min      7000.000000    7000.000000\n",
       "         25%     52000.000000   55000.000000\n",
       "         50%     78000.000000   80000.000000\n",
       "         75%    110000.000000  115000.000000\n",
       "         max   1251000.000000 3010000.000000\n",
       "birth_yr count   28450.000000   47652.000000\n",
       "         mean     1965.641371    1963.859838\n",
       "         std        10.698830      10.847094\n",
       "         min      1933.000000    1930.000000\n",
       "         25%      1958.000000    1956.000000\n",
       "         50%      1965.000000    1963.000000\n",
       "         75%      1971.000000    1970.000000\n",
       "         max      1991.000000    1991.000000"
      ]
     },
     "execution_count": 15,
     "metadata": {},
     "output_type": "execute_result"
    }
   ],
   "source": [
    "si_df.groupby('Gender')[['Age','Capital','birth_yr']].describe().T"
   ]
  },
  {
   "cell_type": "code",
   "execution_count": 17,
   "id": "fb9d8615",
   "metadata": {},
   "outputs": [
    {
     "data": {
      "text/html": [
       "<div>\n",
       "<style scoped>\n",
       "    .dataframe tbody tr th:only-of-type {\n",
       "        vertical-align: middle;\n",
       "    }\n",
       "\n",
       "    .dataframe tbody tr th {\n",
       "        vertical-align: top;\n",
       "    }\n",
       "\n",
       "    .dataframe thead tr th {\n",
       "        text-align: left;\n",
       "    }\n",
       "</style>\n",
       "<table border=\"1\" class=\"dataframe\">\n",
       "  <thead>\n",
       "    <tr>\n",
       "      <th></th>\n",
       "      <th>seasonal_quarter</th>\n",
       "      <th colspan=\"2\" halign=\"left\">Autumn</th>\n",
       "      <th colspan=\"2\" halign=\"left\">Spring</th>\n",
       "      <th colspan=\"2\" halign=\"left\">Summer</th>\n",
       "      <th colspan=\"2\" halign=\"left\">Winter</th>\n",
       "    </tr>\n",
       "    <tr>\n",
       "      <th></th>\n",
       "      <th>Gender</th>\n",
       "      <th>F</th>\n",
       "      <th>M</th>\n",
       "      <th>F</th>\n",
       "      <th>M</th>\n",
       "      <th>F</th>\n",
       "      <th>M</th>\n",
       "      <th>F</th>\n",
       "      <th>M</th>\n",
       "    </tr>\n",
       "  </thead>\n",
       "  <tbody>\n",
       "    <tr>\n",
       "      <th rowspan=\"8\" valign=\"top\">Age</th>\n",
       "      <th>count</th>\n",
       "      <td>8257.000000</td>\n",
       "      <td>13611.000000</td>\n",
       "      <td>7108.000000</td>\n",
       "      <td>11915.000000</td>\n",
       "      <td>5590.000000</td>\n",
       "      <td>9298.000000</td>\n",
       "      <td>7495.000000</td>\n",
       "      <td>12828.000000</td>\n",
       "    </tr>\n",
       "    <tr>\n",
       "      <th>mean</th>\n",
       "      <td>44.067129</td>\n",
       "      <td>45.830371</td>\n",
       "      <td>43.274137</td>\n",
       "      <td>45.133708</td>\n",
       "      <td>43.183058</td>\n",
       "      <td>44.970030</td>\n",
       "      <td>42.830336</td>\n",
       "      <td>44.556701</td>\n",
       "    </tr>\n",
       "    <tr>\n",
       "      <th>std</th>\n",
       "      <td>10.404539</td>\n",
       "      <td>10.554762</td>\n",
       "      <td>10.698541</td>\n",
       "      <td>10.770878</td>\n",
       "      <td>11.034305</td>\n",
       "      <td>11.105168</td>\n",
       "      <td>10.768876</td>\n",
       "      <td>11.029101</td>\n",
       "    </tr>\n",
       "    <tr>\n",
       "      <th>min</th>\n",
       "      <td>18.672142</td>\n",
       "      <td>18.425736</td>\n",
       "      <td>18.023272</td>\n",
       "      <td>17.938398</td>\n",
       "      <td>18.417522</td>\n",
       "      <td>17.971253</td>\n",
       "      <td>18.017796</td>\n",
       "      <td>17.891855</td>\n",
       "    </tr>\n",
       "    <tr>\n",
       "      <th>25%</th>\n",
       "      <td>38.335387</td>\n",
       "      <td>39.958932</td>\n",
       "      <td>37.354552</td>\n",
       "      <td>39.394935</td>\n",
       "      <td>37.145106</td>\n",
       "      <td>38.963039</td>\n",
       "      <td>37.117043</td>\n",
       "      <td>38.619439</td>\n",
       "    </tr>\n",
       "    <tr>\n",
       "      <th>50%</th>\n",
       "      <td>44.747433</td>\n",
       "      <td>46.513347</td>\n",
       "      <td>43.945243</td>\n",
       "      <td>45.686516</td>\n",
       "      <td>43.900068</td>\n",
       "      <td>45.754962</td>\n",
       "      <td>43.553730</td>\n",
       "      <td>45.348392</td>\n",
       "    </tr>\n",
       "    <tr>\n",
       "      <th>75%</th>\n",
       "      <td>50.965092</td>\n",
       "      <td>53.260780</td>\n",
       "      <td>50.587953</td>\n",
       "      <td>52.640657</td>\n",
       "      <td>50.710472</td>\n",
       "      <td>52.928816</td>\n",
       "      <td>50.049281</td>\n",
       "      <td>52.132101</td>\n",
       "    </tr>\n",
       "    <tr>\n",
       "      <th>max</th>\n",
       "      <td>75.904175</td>\n",
       "      <td>77.941136</td>\n",
       "      <td>74.431212</td>\n",
       "      <td>76.229979</td>\n",
       "      <td>76.268309</td>\n",
       "      <td>78.844627</td>\n",
       "      <td>75.279945</td>\n",
       "      <td>76.281999</td>\n",
       "    </tr>\n",
       "    <tr>\n",
       "      <th rowspan=\"8\" valign=\"top\">Capital</th>\n",
       "      <th>count</th>\n",
       "      <td>8257.000000</td>\n",
       "      <td>13611.000000</td>\n",
       "      <td>7108.000000</td>\n",
       "      <td>11915.000000</td>\n",
       "      <td>5590.000000</td>\n",
       "      <td>9298.000000</td>\n",
       "      <td>7495.000000</td>\n",
       "      <td>12828.000000</td>\n",
       "    </tr>\n",
       "    <tr>\n",
       "      <th>mean</th>\n",
       "      <td>85527.635351</td>\n",
       "      <td>91755.015908</td>\n",
       "      <td>87882.116172</td>\n",
       "      <td>95095.151954</td>\n",
       "      <td>87383.568676</td>\n",
       "      <td>93981.549433</td>\n",
       "      <td>89776.810842</td>\n",
       "      <td>94457.257456</td>\n",
       "    </tr>\n",
       "    <tr>\n",
       "      <th>std</th>\n",
       "      <td>54439.488445</td>\n",
       "      <td>68805.160248</td>\n",
       "      <td>54804.831041</td>\n",
       "      <td>73327.560681</td>\n",
       "      <td>53914.753895</td>\n",
       "      <td>63791.472654</td>\n",
       "      <td>59479.623121</td>\n",
       "      <td>67782.648610</td>\n",
       "    </tr>\n",
       "    <tr>\n",
       "      <th>min</th>\n",
       "      <td>7000.000000</td>\n",
       "      <td>7000.000000</td>\n",
       "      <td>8000.000000</td>\n",
       "      <td>7000.000000</td>\n",
       "      <td>7000.000000</td>\n",
       "      <td>7000.000000</td>\n",
       "      <td>7000.000000</td>\n",
       "      <td>7000.000000</td>\n",
       "    </tr>\n",
       "    <tr>\n",
       "      <th>25%</th>\n",
       "      <td>50000.000000</td>\n",
       "      <td>52000.000000</td>\n",
       "      <td>54000.000000</td>\n",
       "      <td>55000.000000</td>\n",
       "      <td>52000.000000</td>\n",
       "      <td>55000.000000</td>\n",
       "      <td>55000.000000</td>\n",
       "      <td>55000.000000</td>\n",
       "    </tr>\n",
       "    <tr>\n",
       "      <th>50%</th>\n",
       "      <td>75000.000000</td>\n",
       "      <td>80000.000000</td>\n",
       "      <td>80000.000000</td>\n",
       "      <td>80000.000000</td>\n",
       "      <td>78000.000000</td>\n",
       "      <td>80775.810000</td>\n",
       "      <td>80000.000000</td>\n",
       "      <td>81350.000000</td>\n",
       "    </tr>\n",
       "    <tr>\n",
       "      <th>75%</th>\n",
       "      <td>110000.000000</td>\n",
       "      <td>110000.000000</td>\n",
       "      <td>110000.000000</td>\n",
       "      <td>115000.000000</td>\n",
       "      <td>110000.000000</td>\n",
       "      <td>115000.000000</td>\n",
       "      <td>110000.000000</td>\n",
       "      <td>115000.000000</td>\n",
       "    </tr>\n",
       "    <tr>\n",
       "      <th>max</th>\n",
       "      <td>1060000.000000</td>\n",
       "      <td>2005000.000000</td>\n",
       "      <td>1052000.000000</td>\n",
       "      <td>3010000.000000</td>\n",
       "      <td>725000.000000</td>\n",
       "      <td>1102727.000000</td>\n",
       "      <td>1251000.000000</td>\n",
       "      <td>1510000.000000</td>\n",
       "    </tr>\n",
       "  </tbody>\n",
       "</table>\n",
       "</div>"
      ],
      "text/plain": [
       "seasonal_quarter         Autumn                        Spring                 \\\n",
       "Gender                        F              M              F              M   \n",
       "Age     count       8257.000000   13611.000000    7108.000000   11915.000000   \n",
       "        mean          44.067129      45.830371      43.274137      45.133708   \n",
       "        std           10.404539      10.554762      10.698541      10.770878   \n",
       "        min           18.672142      18.425736      18.023272      17.938398   \n",
       "        25%           38.335387      39.958932      37.354552      39.394935   \n",
       "        50%           44.747433      46.513347      43.945243      45.686516   \n",
       "        75%           50.965092      53.260780      50.587953      52.640657   \n",
       "        max           75.904175      77.941136      74.431212      76.229979   \n",
       "Capital count       8257.000000   13611.000000    7108.000000   11915.000000   \n",
       "        mean       85527.635351   91755.015908   87882.116172   95095.151954   \n",
       "        std        54439.488445   68805.160248   54804.831041   73327.560681   \n",
       "        min         7000.000000    7000.000000    8000.000000    7000.000000   \n",
       "        25%        50000.000000   52000.000000   54000.000000   55000.000000   \n",
       "        50%        75000.000000   80000.000000   80000.000000   80000.000000   \n",
       "        75%       110000.000000  110000.000000  110000.000000  115000.000000   \n",
       "        max      1060000.000000 2005000.000000 1052000.000000 3010000.000000   \n",
       "\n",
       "seasonal_quarter        Summer                        Winter                 \n",
       "Gender                       F              M              F              M  \n",
       "Age     count      5590.000000    9298.000000    7495.000000   12828.000000  \n",
       "        mean         43.183058      44.970030      42.830336      44.556701  \n",
       "        std          11.034305      11.105168      10.768876      11.029101  \n",
       "        min          18.417522      17.971253      18.017796      17.891855  \n",
       "        25%          37.145106      38.963039      37.117043      38.619439  \n",
       "        50%          43.900068      45.754962      43.553730      45.348392  \n",
       "        75%          50.710472      52.928816      50.049281      52.132101  \n",
       "        max          76.268309      78.844627      75.279945      76.281999  \n",
       "Capital count      5590.000000    9298.000000    7495.000000   12828.000000  \n",
       "        mean      87383.568676   93981.549433   89776.810842   94457.257456  \n",
       "        std       53914.753895   63791.472654   59479.623121   67782.648610  \n",
       "        min        7000.000000    7000.000000    7000.000000    7000.000000  \n",
       "        25%       52000.000000   55000.000000   55000.000000   55000.000000  \n",
       "        50%       78000.000000   80775.810000   80000.000000   81350.000000  \n",
       "        75%      110000.000000  115000.000000  110000.000000  115000.000000  \n",
       "        max      725000.000000 1102727.000000 1251000.000000 1510000.000000  "
      ]
     },
     "execution_count": 17,
     "metadata": {},
     "output_type": "execute_result"
    }
   ],
   "source": [
    "si_df.groupby(['seasonal_quarter','Gender'])[['Age','Capital']].describe().T"
   ]
  },
  {
   "cell_type": "code",
   "execution_count": 18,
   "id": "a30d17f3",
   "metadata": {},
   "outputs": [],
   "source": [
    "# creating seperate data frames\n",
    "si_M=index=si_df[si_df['Gender'] == 'M']\n",
    "si_F=index=si_df[si_df['Gender'] == 'F']"
   ]
  },
  {
   "cell_type": "markdown",
   "id": "c81e14bd",
   "metadata": {},
   "source": [
    "--- \n",
    "#### seasonal_quarter wise policy renewal distribution"
   ]
  },
  {
   "cell_type": "code",
   "execution_count": 19,
   "id": "149d8e36",
   "metadata": {},
   "outputs": [
    {
     "data": {
      "text/plain": [
       "Autumn    13611\n",
       "Winter    12828\n",
       "Spring    11915\n",
       "Summer     9298\n",
       "Name: seasonal_quarter, dtype: int64"
      ]
     },
     "execution_count": 19,
     "metadata": {},
     "output_type": "execute_result"
    }
   ],
   "source": [
    "si_M['seasonal_quarter'].value_counts()"
   ]
  },
  {
   "cell_type": "code",
   "execution_count": 20,
   "id": "b43c3061",
   "metadata": {},
   "outputs": [
    {
     "data": {
      "text/plain": [
       "Autumn    8257\n",
       "Winter    7495\n",
       "Spring    7108\n",
       "Summer    5590\n",
       "Name: seasonal_quarter, dtype: int64"
      ]
     },
     "execution_count": 20,
     "metadata": {},
     "output_type": "execute_result"
    }
   ],
   "source": [
    "si_F['seasonal_quarter'].value_counts()"
   ]
  },
  {
   "cell_type": "markdown",
   "id": "1d56d568",
   "metadata": {},
   "source": [
    "---\n",
    "+ Null Hypothesis (H0): The observed frequencies of the categories are consistent with the expected frequencies; there is no significant difference.\n",
    "+ Alternative Hypothesis (H1): The observed frequencies differ significantly from the expected frequencies; there is a significant difference."
   ]
  },
  {
   "cell_type": "code",
   "execution_count": 21,
   "id": "e830b000",
   "metadata": {},
   "outputs": [],
   "source": [
    "def chi2_gf(observed_frequencies):\n",
    "    '''\n",
    "    chi square goodness of test\n",
    "    '''\n",
    "    \n",
    "    from scipy.stats import chisquare\n",
    "    # Calculate expected frequencies assuming a uniform distribution\n",
    "    expected_frequencies = np.full_like(observed_frequencies, fill_value=np.sum(observed_frequencies) / len(observed_frequencies),dtype=float)\n",
    "\n",
    "    # Adjust the expected frequencies to ensure exact equality with the sum of observed frequencies\n",
    "    expected_frequencies += (np.sum(observed_frequencies) - np.sum(expected_frequencies)) / len(expected_frequencies)\n",
    "\n",
    "    # Perform the chi-square goodness-of-fit test\n",
    "    chi2, p = chisquare(f_obs=observed_frequencies, f_exp=expected_frequencies)\n",
    "\n",
    "    # Print the results\n",
    "    print(f\"Chi-square statistic: {chi2}\")\n",
    "    print(f\"P-value: {p}\")\n",
    "    if p<0.01:\n",
    "        print('significant difference in the distribution of categories')\n",
    "    else:\n",
    "        print('no significant difference in the distribution of categories')"
   ]
  },
  {
   "cell_type": "code",
   "execution_count": 22,
   "id": "2d877717",
   "metadata": {},
   "outputs": [
    {
     "name": "stdout",
     "output_type": "stream",
     "text": [
      "Chi-square statistic: 886.313942751616\n",
      "P-value: 8.233713302588186e-192\n",
      "significant difference in the distribution of categories\n"
     ]
    }
   ],
   "source": [
    "chi2_gf(si_M['seasonal_quarter'].value_counts())"
   ]
  },
  {
   "cell_type": "code",
   "execution_count": 23,
   "id": "0b3a55ca",
   "metadata": {},
   "outputs": [
    {
     "name": "stdout",
     "output_type": "stream",
     "text": [
      "Chi-square statistic: 530.6450615114236\n",
      "P-value: 1.0890484958146388e-114\n",
      "significant difference in the distribution of categories\n"
     ]
    }
   ],
   "source": [
    "chi2_gf(si_F['seasonal_quarter'].value_counts())"
   ]
  },
  {
   "cell_type": "markdown",
   "id": "c045aeda",
   "metadata": {},
   "source": [
    "#### result : there is significant difference in the distribution of categories of seasonal_quarter "
   ]
  },
  {
   "cell_type": "markdown",
   "id": "5a518ce8",
   "metadata": {},
   "source": [
    "--- \n",
    "#### ageing_quarter wise policy renewal distribution"
   ]
  },
  {
   "cell_type": "code",
   "execution_count": 26,
   "id": "e3028533",
   "metadata": {},
   "outputs": [
    {
     "data": {
      "text/plain": [
       "2Q    12164\n",
       "3Q    11857\n",
       "4Q    11832\n",
       "1Q    11799\n",
       "Name: ageing_quarter, dtype: int64"
      ]
     },
     "execution_count": 26,
     "metadata": {},
     "output_type": "execute_result"
    }
   ],
   "source": [
    "si_M['ageing_quarter'].value_counts()"
   ]
  },
  {
   "cell_type": "code",
   "execution_count": 24,
   "id": "c3b8d563",
   "metadata": {},
   "outputs": [
    {
     "name": "stdout",
     "output_type": "stream",
     "text": [
      "Chi-square statistic: 7.193318223789137\n",
      "P-value: 0.0659847716585871\n",
      "no significant difference in the distribution of categories\n"
     ]
    }
   ],
   "source": [
    "chi2_gf(si_M['ageing_quarter'].value_counts())"
   ]
  },
  {
   "cell_type": "code",
   "execution_count": 27,
   "id": "fdc43c20",
   "metadata": {},
   "outputs": [
    {
     "data": {
      "text/plain": [
       "3Q    7146\n",
       "2Q    7143\n",
       "1Q    7104\n",
       "4Q    7057\n",
       "Name: ageing_quarter, dtype: int64"
      ]
     },
     "execution_count": 27,
     "metadata": {},
     "output_type": "execute_result"
    }
   ],
   "source": [
    "si_F['ageing_quarter'].value_counts()"
   ]
  },
  {
   "cell_type": "code",
   "execution_count": 25,
   "id": "0eb33da7",
   "metadata": {},
   "outputs": [
    {
     "name": "stdout",
     "output_type": "stream",
     "text": [
      "Chi-square statistic: 0.7318101933216168\n",
      "P-value: 0.8656975760762919\n",
      "no significant difference in the distribution of categories\n"
     ]
    }
   ],
   "source": [
    "chi2_gf(si_F['ageing_quarter'].value_counts())"
   ]
  },
  {
   "cell_type": "markdown",
   "id": "67e12990",
   "metadata": {},
   "source": [
    "\n",
    "#### result : there is significant difference in the distribution of categories of seasonal_quarter \n",
    "---"
   ]
  },
  {
   "cell_type": "markdown",
   "id": "b656478c",
   "metadata": {},
   "source": [
    "##### the number of policies in the portfolio that, by gender, renew for each combination of aging- and seasonal-quarter."
   ]
  },
  {
   "cell_type": "code",
   "execution_count": 30,
   "id": "e7b19c90",
   "metadata": {},
   "outputs": [
    {
     "data": {
      "image/png": "[encoded data removed]",
      "text/plain": [
       "<Figure size 720x432 with 2 Axes>"
      ]
     },
     "metadata": {
      "needs_background": "light"
     },
     "output_type": "display_data"
    }
   ],
   "source": [
    "import seaborn as sns\n",
    "import matplotlib.pyplot as plt\n",
    "# Create cross-tabulations for male and female\n",
    "cross_tab_male = pd.crosstab(index=si_M['ageing_quarter'], columns=si_M['seasonal_quarter'])\n",
    "cross_tab_female = pd.crosstab(index=si_F['ageing_quarter'], columns=si_F['seasonal_quarter'])\n",
    "\n",
    "# Combine the cross-tabulations for visualization\n",
    "combined_cross_tab = pd.concat([cross_tab_male, cross_tab_female], keys=['Male', 'Female'], axis=1)\n",
    "\n",
    "# Calculate percentages\n",
    "combined_cross_tab_percentage = combined_cross_tab.div(combined_cross_tab.sum(axis=1), axis=0) * 100\n",
    "\n",
    "# Set the figure size\n",
    "plt.figure(figsize=(10, 6))\n",
    "\n",
    "# Create a heatmap using seaborn\n",
    "sns.heatmap(combined_cross_tab,annot=True, fmt=\",.0f\", cmap=\"RdBu_r\", cbar_kws={'label': '# of Policies'},linewidths=.5)\n",
    "\n",
    "# Set plot labels and title\n",
    "plt.xlabel('seasonal_quarter')\n",
    "plt.ylabel('ageing_quarter')\n",
    "plt.title('Cross-tabulation of seasonal_quarter and ageing_quarter by Gender',loc='center')\n",
    "\n",
    "# Show the plot\n",
    "plt.show()"
   ]
  },
  {
   "cell_type": "code",
   "execution_count": 33,
   "id": "e317142b",
   "metadata": {},
   "outputs": [
    {
     "data": {
      "text/html": [
       "<div>\n",
       "<style scoped>\n",
       "    .dataframe tbody tr th:only-of-type {\n",
       "        vertical-align: middle;\n",
       "    }\n",
       "\n",
       "    .dataframe tbody tr th {\n",
       "        vertical-align: top;\n",
       "    }\n",
       "\n",
       "    .dataframe thead tr th {\n",
       "        text-align: left;\n",
       "    }\n",
       "\n",
       "    .dataframe thead tr:last-of-type th {\n",
       "        text-align: right;\n",
       "    }\n",
       "</style>\n",
       "<table border=\"1\" class=\"dataframe\">\n",
       "  <thead>\n",
       "    <tr>\n",
       "      <th></th>\n",
       "      <th colspan=\"4\" halign=\"left\">Male</th>\n",
       "      <th colspan=\"4\" halign=\"left\">Female</th>\n",
       "    </tr>\n",
       "    <tr>\n",
       "      <th>seasonal_quarter</th>\n",
       "      <th>Autumn</th>\n",
       "      <th>Spring</th>\n",
       "      <th>Summer</th>\n",
       "      <th>Winter</th>\n",
       "      <th>Autumn</th>\n",
       "      <th>Spring</th>\n",
       "      <th>Summer</th>\n",
       "      <th>Winter</th>\n",
       "    </tr>\n",
       "    <tr>\n",
       "      <th>ageing_quarter</th>\n",
       "      <th></th>\n",
       "      <th></th>\n",
       "      <th></th>\n",
       "      <th></th>\n",
       "      <th></th>\n",
       "      <th></th>\n",
       "      <th></th>\n",
       "      <th></th>\n",
       "    </tr>\n",
       "  </thead>\n",
       "  <tbody>\n",
       "    <tr>\n",
       "      <th>1Q</th>\n",
       "      <td>3386</td>\n",
       "      <td>3009</td>\n",
       "      <td>2315</td>\n",
       "      <td>3089</td>\n",
       "      <td>2018</td>\n",
       "      <td>1827</td>\n",
       "      <td>1413</td>\n",
       "      <td>1846</td>\n",
       "    </tr>\n",
       "    <tr>\n",
       "      <th>2Q</th>\n",
       "      <td>3564</td>\n",
       "      <td>2946</td>\n",
       "      <td>2361</td>\n",
       "      <td>3293</td>\n",
       "      <td>2163</td>\n",
       "      <td>1713</td>\n",
       "      <td>1367</td>\n",
       "      <td>1900</td>\n",
       "    </tr>\n",
       "    <tr>\n",
       "      <th>3Q</th>\n",
       "      <td>3431</td>\n",
       "      <td>2913</td>\n",
       "      <td>2307</td>\n",
       "      <td>3206</td>\n",
       "      <td>2090</td>\n",
       "      <td>1800</td>\n",
       "      <td>1364</td>\n",
       "      <td>1892</td>\n",
       "    </tr>\n",
       "    <tr>\n",
       "      <th>4Q</th>\n",
       "      <td>3230</td>\n",
       "      <td>3047</td>\n",
       "      <td>2315</td>\n",
       "      <td>3240</td>\n",
       "      <td>1986</td>\n",
       "      <td>1768</td>\n",
       "      <td>1446</td>\n",
       "      <td>1857</td>\n",
       "    </tr>\n",
       "  </tbody>\n",
       "</table>\n",
       "</div>"
      ],
      "text/plain": [
       "                   Male                      Female                     \n",
       "seasonal_quarter Autumn Spring Summer Winter Autumn Spring Summer Winter\n",
       "ageing_quarter                                                          \n",
       "1Q                 3386   3009   2315   3089   2018   1827   1413   1846\n",
       "2Q                 3564   2946   2361   3293   2163   1713   1367   1900\n",
       "3Q                 3431   2913   2307   3206   2090   1800   1364   1892\n",
       "4Q                 3230   3047   2315   3240   1986   1768   1446   1857"
      ]
     },
     "execution_count": 33,
     "metadata": {},
     "output_type": "execute_result"
    }
   ],
   "source": [
    "combined_cross_tab"
   ]
  },
  {
   "cell_type": "code",
   "execution_count": null,
   "id": "51d95226",
   "metadata": {},
   "outputs": [],
   "source": [
    "# highest number of renewal in Autumn and winter Season; summer has less number of renewals "
   ]
  },
  {
   "cell_type": "code",
   "execution_count": 35,
   "id": "c7ff3d55",
   "metadata": {},
   "outputs": [],
   "source": [
    "from scipy.stats import chi2_contingency"
   ]
  },
  {
   "cell_type": "code",
   "execution_count": 36,
   "id": "894b9bb2",
   "metadata": {},
   "outputs": [
    {
     "name": "stdout",
     "output_type": "stream",
     "text": [
      "Chi-square statistic: 20.98490303060781\n",
      "P-value: 0.012717622869832778\n",
      "Degrees of freedom: 9\n",
      "Expected frequencies:\n",
      "[[3370.18779904 2950.24521531 2302.25598086 3176.31100478]\n",
      " [3474.44396877 3041.51053471 2373.4758667  3274.56962982]\n",
      " [3386.75453286 2964.74764963 2313.57311341 3191.9247041 ]\n",
      " [3379.61369932 2958.49660035 2308.69503903 3185.19466129]]\n"
     ]
    }
   ],
   "source": [
    "# Perform the chi-square test\n",
    "chi2, p, dof, expected = chi2_contingency(cross_tab_male)\n",
    "# Print the results\n",
    "print(f\"Chi-square statistic: {chi2}\")\n",
    "print(f\"P-value: {p}\")\n",
    "print(f\"Degrees of freedom: {dof}\")\n",
    "print(\"Expected frequencies:\")\n",
    "print(expected)"
   ]
  },
  {
   "cell_type": "code",
   "execution_count": 37,
   "id": "5a300958",
   "metadata": {},
   "outputs": [
    {
     "name": "stdout",
     "output_type": "stream",
     "text": [
      "Chi-square statistic: 16.79872979088391\n",
      "P-value: 0.05196273507480148\n",
      "Degrees of freedom: 9\n",
      "Expected frequencies:\n",
      "[[2061.783058   1774.87634446 1395.82987698 1871.51072056]\n",
      " [2073.10196837 1784.62017575 1403.49279438 1881.78506151]\n",
      " [2073.97265378 1785.36970123 1404.08224956 1882.57539543]\n",
      " [2048.14231986 1763.13377856 1386.59507909 1859.1288225 ]]\n"
     ]
    }
   ],
   "source": [
    "# Perform the chi-square test\n",
    "chi2, p, dof, expected = chi2_contingency(cross_tab_female)\n",
    "# Print the results\n",
    "print(f\"Chi-square statistic: {chi2}\")\n",
    "print(f\"P-value: {p}\")\n",
    "print(f\"Degrees of freedom: {dof}\")\n",
    "print(\"Expected frequencies:\")\n",
    "print(expected)"
   ]
  },
  {
   "cell_type": "markdown",
   "id": "dc148e53",
   "metadata": {},
   "source": [
    "---"
   ]
  },
  {
   "cell_type": "code",
   "execution_count": null,
   "id": "88408bac",
   "metadata": {},
   "outputs": [],
   "source": []
  }
 ],
 "metadata": {
  "kernelspec": {
   "display_name": "Python 3 (ipykernel)",
   "language": "python",
   "name": "python3"
  },
  "language_info": {
   "codemirror_mode": {
    "name": "ipython",
    "version": 3
   },
   "file_extension": ".py",
   "mimetype": "text/x-python",
   "name": "python",
   "nbconvert_exporter": "python",
   "pygments_lexer": "ipython3",
   "version": "3.9.7"
  }
 },
 "nbformat": 4,
 "nbformat_minor": 5
}
